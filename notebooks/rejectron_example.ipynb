{
 "cells": [
  {
   "cell_type": "code",
   "execution_count": 40,
   "id": "bf843cd2-3c56-4d17-b682-9cbca7340704",
   "metadata": {},
   "outputs": [],
   "source": [
    "import torch\n",
    "from torch import nn\n",
    "import matplotlib.pyplot as plt\n",
    "import numpy as np\n",
    "from torch.utils.data import DataLoader"
   ]
  },
  {
   "cell_type": "code",
   "execution_count": 2,
   "id": "dd8fd66e-f16b-4c9d-980a-399b146a325a",
   "metadata": {},
   "outputs": [],
   "source": [
    "# define a simple MLP\n",
    "class MLP(nn.Module):\n",
    "    def __init__(self, input_size, hidden_size, output_size):\n",
    "        super(MLP, self).__init__()\n",
    "        self.fc1 = nn.Linear(input_size, hidden_size)\n",
    "        self.fc2 = nn.Linear(hidden_size, output_size)\n",
    "\n",
    "    def forward(self, x):\n",
    "        x = self.fc1(x)\n",
    "        x = torch.relu(x)\n",
    "        x = self.fc2(x)\n",
    "        return x"
   ]
  },
  {
   "cell_type": "code",
   "execution_count": 3,
   "id": "52604387-c699-4c8a-9900-5c63ac9e4baf",
   "metadata": {},
   "outputs": [],
   "source": [
    "def random_points_in_annulus(r_inner: float, r_outer: float, n: int) -> torch.Tensor:\n",
    "    \"\"\"\n",
    "    Generate random points in a specified annulus.\n",
    "\n",
    "    Args:\n",
    "        r_inner: the inner radius of the annulus\n",
    "        r_outer: the outer radius of the annulus\n",
    "        n: the number of points to generate\n",
    "\n",
    "    Returns:\n",
    "        torch.Tensor: the points\n",
    "    \"\"\"\n",
    "    r = torch.sqrt(torch.rand(n)) * (r_outer - r_inner) + r_inner\n",
    "    theta = torch.rand(n) * 2 * np.pi\n",
    "    x = r * torch.cos(theta)\n",
    "    y = r * torch.sin(theta)\n",
    "    return torch.stack((x, y), dim=1)"
   ]
  },
  {
   "cell_type": "code",
   "execution_count": 6,
   "id": "6cc692d7-d4d4-4584-ab00-25dc5986a9b9",
   "metadata": {},
   "outputs": [],
   "source": [
    "n = 100\n",
    "positive = random_points_in_annulus(0, 1, n)\n",
    "negative = random_points_in_annulus(3, 4, n)\n",
    "\n",
    "def plot_points(positive, negative, show=True):\n",
    "    plt.scatter(positive[:, 0], positive[:, 1], c='b', marker='+')\n",
    "    plt.scatter(negative[:, 0], negative[:, 1], c='r', marker='*')\n",
    "    if show:\n",
    "        plt.show()"
   ]
  },
  {
   "cell_type": "code",
   "execution_count": 7,
   "id": "10197158-c576-4a61-afae-044af4ef4b78",
   "metadata": {},
   "outputs": [
    {
     "data": {
      "image/png": "[encoded data removed]",
      "text/plain": [
       "<Figure size 432x288 with 1 Axes>"
      ]
     },
     "metadata": {
      "needs_background": "light"
     },
     "output_type": "display_data"
    }
   ],
   "source": [
    "plot_points(positive, negative)"
   ]
  },
  {
   "cell_type": "code",
   "execution_count": 8,
   "id": "955b874f-6aae-4556-b5f9-a28af431ee8c",
   "metadata": {},
   "outputs": [
    {
     "name": "stdout",
     "output_type": "stream",
     "text": [
      "Epoch 100/1000 - Loss: 0.5787538290023804\n",
      "Epoch 200/1000 - Loss: 0.4780276417732239\n",
      "Epoch 300/1000 - Loss: 0.40149325132369995\n",
      "Epoch 400/1000 - Loss: 0.327696830034256\n",
      "Epoch 500/1000 - Loss: 0.25633373856544495\n",
      "Epoch 600/1000 - Loss: 0.196489617228508\n",
      "Epoch 700/1000 - Loss: 0.1509133279323578\n",
      "Epoch 800/1000 - Loss: 0.11685017496347427\n",
      "Epoch 900/1000 - Loss: 0.09163936227560043\n",
      "Epoch 1000/1000 - Loss: 0.0728396475315094\n"
     ]
    },
    {
     "data": {
      "image/png": "[encoded data removed]",
      "text/plain": [
       "<Figure size 432x288 with 1 Axes>"
      ]
     },
     "metadata": {
      "needs_background": "light"
     },
     "output_type": "display_data"
    }
   ],
   "source": [
    "# train an MLP on the points\n",
    "model = MLP(2, 10, 1)\n",
    "criterion = nn.BCEWithLogitsLoss()\n",
    "optimizer = torch.optim.Adam(model.parameters())\n",
    "\n",
    "def train(model, criterion, optimizer, positive, negative, batch_size=256, n_epochs=100):\n",
    "    n = len(positive)\n",
    "    k = len(negative)\n",
    "    model = model.cuda()\n",
    "    for epoch in range(1, n_epochs+1):\n",
    "        # shuffle positve and negative\n",
    "        indices = torch.randperm(n)\n",
    "        positive = positive[indices]\n",
    "        \n",
    "        indices = torch.randperm(k)\n",
    "        negative = negative[indices]\n",
    "\n",
    "        # generate batches\n",
    "        positive_batches = positive.split(batch_size)\n",
    "        negative_batches = negative.split(batch_size)\n",
    "\n",
    "        # train on each batch\n",
    "        for positive_batch, negative_batch in zip(positive_batches, negative_batches):\n",
    "            # create batch\n",
    "            batch = torch.cat((positive_batch, negative_batch)).cuda()\n",
    "            # generate labels\n",
    "            labels = torch.cat((torch.ones(len(positive_batch)), torch.zeros(len(negative_batch)))).cuda()\n",
    "\n",
    "            # forward pass\n",
    "            outputs = model(batch)[:, 0]\n",
    "            loss = criterion(outputs, labels)\n",
    "\n",
    "            # backward pass\n",
    "            optimizer.zero_grad()\n",
    "            loss.backward()\n",
    "            optimizer.step()\n",
    "\n",
    "        # print loss\n",
    "        if epoch % 100 == 0:\n",
    "            print(f'Epoch {epoch}/{n_epochs} - Loss: {loss.item()}')\n",
    "\n",
    "train(model, criterion, optimizer, positive, negative, n_epochs=1000)\n",
    "\n",
    "model = model.cpu()\n",
    "# plot the points and the boundary\n",
    "x = torch.linspace(-5, 5, 100)\n",
    "y = torch.linspace(-5, 5, 100)\n",
    "X, Y = torch.meshgrid(x, y)\n",
    "Z = torch.cat((X.reshape(-1, 1), Y.reshape(-1, 1)), dim=1)\n",
    "Z = torch.sign((model(Z))).reshape(100, 100).detach()\n",
    "plt.contourf(X, Y, Z)\n",
    "\n",
    "plot_points(positive, negative, show=False)\n",
    "\n",
    "plt.show()"
   ]
  },
  {
   "cell_type": "code",
   "execution_count": 9,
   "id": "c9032a1f-d302-4312-a81b-ab4883a39137",
   "metadata": {},
   "outputs": [],
   "source": [
    "# make some test data\n",
    "n_test = 30\n",
    "test_data = random_points_in_annulus(0, 4, n_test)"
   ]
  },
  {
   "cell_type": "code",
   "execution_count": 10,
   "id": "28b39479-d74e-48bd-92c6-ba2d53e15f7d",
   "metadata": {},
   "outputs": [
    {
     "data": {
      "text/plain": [
       "<matplotlib.collections.PathCollection at 0x7fa11e7f6820>"
      ]
     },
     "execution_count": 10,
     "metadata": {},
     "output_type": "execute_result"
    },
    {
     "data": {
      "image/png": "[encoded data removed]",
      "text/plain": [
       "<Figure size 432x288 with 1 Axes>"
      ]
     },
     "metadata": {
      "needs_background": "light"
     },
     "output_type": "display_data"
    }
   ],
   "source": [
    "# test points in green\n",
    "plot_points(positive, negative, show=False)\n",
    "plt.scatter(test_data[:, 0], test_data[:, 1], c='g', marker='o')"
   ]
  },
  {
   "cell_type": "code",
   "execution_count": 11,
   "id": "64835eeb-e5a3-4d6f-a436-fbb0d5da0d09",
   "metadata": {},
   "outputs": [],
   "source": [
    "# label the test points with model\n",
    "test_labels = torch.sign(model(test_data))[:, 0]"
   ]
  },
  {
   "cell_type": "code",
   "execution_count": 12,
   "id": "2d113067-3f81-4f45-bea4-0e1bd2a01a39",
   "metadata": {},
   "outputs": [],
   "source": [
    "# new dataset with original data plus the test data with flipped labels\n",
    "new_positive = torch.cat([positive for _ in range(n_test + 1)] + [test_data[test_labels == -1]])\n",
    "new_negative = torch.cat([negative for _ in range(n_test + 1)] + [test_data[test_labels == 1]])"
   ]
  },
  {
   "cell_type": "code",
   "execution_count": 13,
   "id": "04c110b6-9958-4c08-affe-e864cdaa130a",
   "metadata": {},
   "outputs": [
    {
     "data": {
      "image/png": "[encoded data removed]",
      "text/plain": [
       "<Figure size 432x288 with 1 Axes>"
      ]
     },
     "metadata": {
      "needs_background": "light"
     },
     "output_type": "display_data"
    }
   ],
   "source": [
    "# plot labeled points\n",
    "plot_points(new_positive, new_negative)"
   ]
  },
  {
   "cell_type": "code",
   "execution_count": 21,
   "id": "e96d41c8-b72d-4614-bf68-f910751949bb",
   "metadata": {},
   "outputs": [
    {
     "name": "stdout",
     "output_type": "stream",
     "text": [
      "Epoch 100/3000 - Loss: 0.01545749418437481\n",
      "Epoch 200/3000 - Loss: 0.008053483441472054\n",
      "Epoch 300/3000 - Loss: 0.008259936235845089\n",
      "Epoch 400/3000 - Loss: 0.013984930701553822\n",
      "Epoch 500/3000 - Loss: 0.015631884336471558\n",
      "Epoch 600/3000 - Loss: 0.01507811713963747\n",
      "Epoch 700/3000 - Loss: 0.013798348605632782\n",
      "Epoch 800/3000 - Loss: 0.008691797032952309\n",
      "Epoch 900/3000 - Loss: 0.01642563007771969\n",
      "Epoch 1000/3000 - Loss: 0.007392615545541048\n",
      "Epoch 1100/3000 - Loss: 0.026344023644924164\n",
      "Epoch 1200/3000 - Loss: 0.014967594295740128\n",
      "Epoch 1300/3000 - Loss: 0.013722474686801434\n",
      "Epoch 1400/3000 - Loss: 0.013419410213828087\n",
      "Epoch 1500/3000 - Loss: 0.022487185895442963\n",
      "Epoch 1600/3000 - Loss: 0.015300091356039047\n",
      "Epoch 1700/3000 - Loss: 0.02088184654712677\n",
      "Epoch 1800/3000 - Loss: 0.030069967731833458\n",
      "Epoch 1900/3000 - Loss: 0.021438241004943848\n",
      "Epoch 2000/3000 - Loss: 0.01781344600021839\n",
      "Epoch 2100/3000 - Loss: 0.008004993200302124\n",
      "Epoch 2200/3000 - Loss: 0.017234012484550476\n",
      "Epoch 2300/3000 - Loss: 0.030132735148072243\n",
      "Epoch 2400/3000 - Loss: 0.015094506554305553\n",
      "Epoch 2500/3000 - Loss: 0.021688265725970268\n",
      "Epoch 2600/3000 - Loss: 0.016720719635486603\n",
      "Epoch 2700/3000 - Loss: 0.009072884917259216\n",
      "Epoch 2800/3000 - Loss: 0.026601212099194527\n",
      "Epoch 2900/3000 - Loss: 0.017084375023841858\n",
      "Epoch 3000/3000 - Loss: 0.013645467348396778\n"
     ]
    },
    {
     "data": {
      "image/png": "[encoded data removed]",
      "text/plain": [
       "<Figure size 432x288 with 1 Axes>"
      ]
     },
     "metadata": {
      "needs_background": "light"
     },
     "output_type": "display_data"
    }
   ],
   "source": [
    "# train an MLP on the points\n",
    "c = MLP(2, 20, 1)\n",
    "criterion = nn.BCEWithLogitsLoss()\n",
    "optimizer = torch.optim.SGD(c.parameters(), lr=1e-3, momentum=0.9)\n",
    "\n",
    "train(c, criterion, optimizer, new_positive, new_negative, batch_size=128*64, n_epochs=3000)\n",
    "\n",
    "# plot the points and the boundary\n",
    "c = c.cpu()\n",
    "x = torch.linspace(-5, 5, 100)\n",
    "y = torch.linspace(-5, 5, 100)\n",
    "X, Y = torch.meshgrid(x, y)\n",
    "Z = torch.cat((X.reshape(-1, 1), Y.reshape(-1, 1)), dim=1)\n",
    "Z = torch.sign((c(Z))).reshape(100, 100).detach()\n",
    "plt.contourf(X, Y, Z)\n",
    "\n",
    "plot_points(new_positive, new_negative, show=False)\n",
    "\n",
    "plt.show()"
   ]
  },
  {
   "cell_type": "code",
   "execution_count": 28,
   "id": "324619fe-059d-4bd6-b8f2-a1a491a84213",
   "metadata": {},
   "outputs": [],
   "source": [
    "from torch.utils.data import DataLoader"
   ]
  },
  {
   "cell_type": "code",
   "execution_count": 22,
   "id": "fddfc19e-c8c5-44d2-bf80-336c2ca47c31",
   "metadata": {},
   "outputs": [
    {
     "data": {
      "image/png": "[encoded data removed]",
      "text/plain": [
       "<Figure size 432x288 with 1 Axes>"
      ]
     },
     "metadata": {
      "needs_background": "light"
     },
     "output_type": "display_data"
    }
   ],
   "source": [
    "# view the agreement between model and c \n",
    "x = torch.linspace(-5, 5, 100)\n",
    "y = torch.linspace(-5, 5, 100)\n",
    "X, Y = torch.meshgrid(x, y)\n",
    "Z = torch.cat((X.reshape(-1, 1), Y.reshape(-1, 1)), dim=1)\n",
    "Z = (torch.sign((c(Z))) == torch.sign((model(Z)))).reshape(100, 100).detach()\n",
    "plt.contourf(X, Y, Z)\n",
    "\n",
    "plot_points(new_positive, new_negative, show=False)\n",
    "\n",
    "plt.show()"
   ]
  },
  {
   "cell_type": "code",
   "execution_count": 44,
   "id": "5c42f9a5-f53d-4430-8eb3-49bfeaf14d06",
   "metadata": {},
   "outputs": [],
   "source": [
    "with torch.no_grad():\n",
    "    c_labels = torch.sign(c(test_data)).flatten()\n",
    "    \n",
    "accept_mask = (c_labels == test_labels)\n",
    "test_data = test_data[accept_mask]\n",
    "test_labels = test_labels[accept_mask]\n",
    "    \n",
    "# new dataset with original data plus the test data with flipped labels\n",
    "n_test = len(test_data)\n",
    "\n",
    "new_positive = torch.cat([positive for _ in range(n_test + 1)] + [test_data[test_labels == -1]])\n",
    "new_negative = torch.cat([negative for _ in range(n_test + 1)] + [test_data[test_labels == 1]])"
   ]
  },
  {
   "cell_type": "code",
   "execution_count": 46,
   "id": "d6cdd320-c659-47da-8214-8a553b1279bb",
   "metadata": {},
   "outputs": [],
   "source": []
  },
  {
   "cell_type": "code",
   "execution_count": 48,
   "id": "93d760bb-5c6b-448b-8366-09a784ab747c",
   "metadata": {},
   "outputs": [],
   "source": []
  },
  {
   "cell_type": "code",
   "execution_count": 50,
   "id": "5c37c100-80cc-45ba-8376-60e3e456c2bf",
   "metadata": {},
   "outputs": [
    {
     "data": {
      "image/png": "[encoded data removed]",
      "text/plain": [
       "<Figure size 432x288 with 1 Axes>"
      ]
     },
     "metadata": {
      "needs_background": "light"
     },
     "output_type": "display_data"
    }
   ],
   "source": [
    "plot_points(test_data[test_labels==1], test_data[test_labels==-1], show=True)"
   ]
  },
  {
   "cell_type": "code",
   "execution_count": 51,
   "id": "4a264c30-482e-4a42-847c-6b2e86960001",
   "metadata": {},
   "outputs": [],
   "source": [
    "# new dataset with original data plus the test data with flipped labels\n",
    "n_test = len(test_data)\n",
    "\n",
    "new_positive = torch.cat([positive for _ in range(n_test + 1)] + [test_data[test_labels == -1]])\n",
    "new_negative = torch.cat([negative for _ in range(n_test + 1)] + [test_data[test_labels == 1]])"
   ]
  },
  {
   "cell_type": "code",
   "execution_count": 54,
   "id": "94dd2414-644f-4373-a2e0-4b16c861a739",
   "metadata": {},
   "outputs": [
    {
     "name": "stdout",
     "output_type": "stream",
     "text": [
      "Epoch 100/3000 - Loss: 0.539137601852417\n",
      "Epoch 200/3000 - Loss: 0.4734325110912323\n"
     ]
    },
    {
     "ename": "KeyboardInterrupt",
     "evalue": "",
     "output_type": "error",
     "traceback": [
      "\u001b[0;31m---------------------------------------------------------------------------\u001b[0m",
      "\u001b[0;31mKeyboardInterrupt\u001b[0m                         Traceback (most recent call last)",
      "\u001b[0;32m/tmp/ipykernel_11293/2137939693.py\u001b[0m in \u001b[0;36m<module>\u001b[0;34m\u001b[0m\n\u001b[1;32m      4\u001b[0m \u001b[0moptimizer\u001b[0m \u001b[0;34m=\u001b[0m \u001b[0mtorch\u001b[0m\u001b[0;34m.\u001b[0m\u001b[0moptim\u001b[0m\u001b[0;34m.\u001b[0m\u001b[0mSGD\u001b[0m\u001b[0;34m(\u001b[0m\u001b[0mc2\u001b[0m\u001b[0;34m.\u001b[0m\u001b[0mparameters\u001b[0m\u001b[0;34m(\u001b[0m\u001b[0;34m)\u001b[0m\u001b[0;34m,\u001b[0m \u001b[0mlr\u001b[0m\u001b[0;34m=\u001b[0m\u001b[0;36m1e-3\u001b[0m\u001b[0;34m,\u001b[0m \u001b[0mmomentum\u001b[0m\u001b[0;34m=\u001b[0m\u001b[0;36m0.9\u001b[0m\u001b[0;34m)\u001b[0m\u001b[0;34m\u001b[0m\u001b[0;34m\u001b[0m\u001b[0m\n\u001b[1;32m      5\u001b[0m \u001b[0;34m\u001b[0m\u001b[0m\n\u001b[0;32m----> 6\u001b[0;31m \u001b[0mtrain\u001b[0m\u001b[0;34m(\u001b[0m\u001b[0mc2\u001b[0m\u001b[0;34m,\u001b[0m \u001b[0mcriterion\u001b[0m\u001b[0;34m,\u001b[0m \u001b[0moptimizer\u001b[0m\u001b[0;34m,\u001b[0m \u001b[0mnew_positive\u001b[0m\u001b[0;34m,\u001b[0m \u001b[0mnew_negative\u001b[0m\u001b[0;34m,\u001b[0m \u001b[0mbatch_size\u001b[0m\u001b[0;34m=\u001b[0m\u001b[0;36m128\u001b[0m\u001b[0;34m*\u001b[0m\u001b[0;36m64\u001b[0m\u001b[0;34m,\u001b[0m \u001b[0mn_epochs\u001b[0m\u001b[0;34m=\u001b[0m\u001b[0;36m3000\u001b[0m\u001b[0;34m)\u001b[0m\u001b[0;34m\u001b[0m\u001b[0;34m\u001b[0m\u001b[0m\n\u001b[0m\u001b[1;32m      7\u001b[0m \u001b[0;34m\u001b[0m\u001b[0m\n\u001b[1;32m      8\u001b[0m \u001b[0;31m# plot the points and the boundary\u001b[0m\u001b[0;34m\u001b[0m\u001b[0;34m\u001b[0m\u001b[0;34m\u001b[0m\u001b[0m\n",
      "\u001b[0;32m/tmp/ipykernel_11293/2021932545.py\u001b[0m in \u001b[0;36mtrain\u001b[0;34m(model, criterion, optimizer, positive, negative, batch_size, n_epochs)\u001b[0m\n\u001b[1;32m     11\u001b[0m         \u001b[0;31m# shuffle positve and negative\u001b[0m\u001b[0;34m\u001b[0m\u001b[0;34m\u001b[0m\u001b[0;34m\u001b[0m\u001b[0m\n\u001b[1;32m     12\u001b[0m         \u001b[0mindices\u001b[0m \u001b[0;34m=\u001b[0m \u001b[0mtorch\u001b[0m\u001b[0;34m.\u001b[0m\u001b[0mrandperm\u001b[0m\u001b[0;34m(\u001b[0m\u001b[0mn\u001b[0m\u001b[0;34m)\u001b[0m\u001b[0;34m\u001b[0m\u001b[0;34m\u001b[0m\u001b[0m\n\u001b[0;32m---> 13\u001b[0;31m         \u001b[0mpositive\u001b[0m \u001b[0;34m=\u001b[0m \u001b[0mpositive\u001b[0m\u001b[0;34m[\u001b[0m\u001b[0mindices\u001b[0m\u001b[0;34m]\u001b[0m\u001b[0;34m\u001b[0m\u001b[0;34m\u001b[0m\u001b[0m\n\u001b[0m\u001b[1;32m     14\u001b[0m \u001b[0;34m\u001b[0m\u001b[0m\n\u001b[1;32m     15\u001b[0m         \u001b[0mindices\u001b[0m \u001b[0;34m=\u001b[0m \u001b[0mtorch\u001b[0m\u001b[0;34m.\u001b[0m\u001b[0mrandperm\u001b[0m\u001b[0;34m(\u001b[0m\u001b[0mk\u001b[0m\u001b[0;34m)\u001b[0m\u001b[0;34m\u001b[0m\u001b[0;34m\u001b[0m\u001b[0m\n",
      "\u001b[0;31mKeyboardInterrupt\u001b[0m: "
     ]
    }
   ],
   "source": [
    "# train an MLP on the points\n",
    "c2 = MLP(2, 20, 1)\n",
    "criterion = nn.BCEWithLogitsLoss()\n",
    "optimizer = torch.optim.SGD(c2.parameters(), lr=1e-3, momentum=0.9)\n",
    "\n",
    "train(c2, criterion, optimizer, new_positive, new_negative, batch_size=128*64, n_epochs=3000)\n",
    "\n",
    "# plot the points and the boundary\n",
    "c2 = c2.cpu()\n",
    "x = torch.linspace(-5, 5, 100)\n",
    "y = torch.linspace(-5, 5, 100)\n",
    "X, Y = torch.meshgrid(x, y)\n",
    "Z = torch.cat((X.reshape(-1, 1), Y.reshape(-1, 1)), dim=1)\n",
    "Z = torch.sign((c(Z))).reshape(100, 100).detach()\n",
    "plt.contourf(X, Y, Z)\n",
    "\n",
    "plot_points(new_positive, new_negative, show=False)\n",
    "\n",
    "plt.show()"
   ]
  },
  {
   "cell_type": "code",
   "execution_count": null,
   "id": "0284044e-0d09-475b-8e76-e68ddd11a188",
   "metadata": {},
   "outputs": [],
   "source": []
  }
 ],
 "metadata": {
  "kernelspec": {
   "display_name": "Python 3 (ipykernel)",
   "language": "python",
   "name": "python3"
  },
  "language_info": {
   "codemirror_mode": {
    "name": "ipython",
    "version": 3
   },
   "file_extension": ".py",
   "mimetype": "text/x-python",
   "name": "python",
   "nbconvert_exporter": "python",
   "pygments_lexer": "ipython3",
   "version": "3.9.5"
  }
 },
 "nbformat": 4,
 "nbformat_minor": 5
}
