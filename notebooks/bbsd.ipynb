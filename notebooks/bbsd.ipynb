{
 "cells": [
  {
   "cell_type": "code",
   "execution_count": 1,
   "id": "431dd34a-990c-40e6-a907-1a2a09f76ec8",
   "metadata": {},
   "outputs": [],
   "source": [
    "from torch.utils.data import DataLoader\n",
    "import torch\n",
    "from tqdm import tqdm\n",
    "\n",
    "\n",
    "def generate_logits(model: torch.nn.Module, dataloader: DataLoader):\n",
    "    logits = []\n",
    "    device = model.device\n",
    "    with torch.no_grad():\n",
    "        for x, y in tqdm(dataloader):\n",
    "            x = x.to(device)\n",
    "            l = model(x)\n",
    "            logits.append(l)\n",
    "        return torch.cat(logits, dim=0)"
   ]
  },
  {
   "cell_type": "code",
   "execution_count": 4,
   "id": "f079f7fd-7248-4532-9f0c-50f1afc07c7f",
   "metadata": {},
   "outputs": [
    {
     "name": "stderr",
     "output_type": "stream",
     "text": [
      "100%|███████████████████████████████████████████████████| 98/98 [00:07<00:00, 13.07it/s]\n"
     ]
    }
   ],
   "source": [
    "from modelling.pretrained import lenet_trained_on_mnist\n",
    "from datasets import MnistDataModule\n",
    "\n",
    "model = lenet_trained_on_mnist().cuda(2)\n",
    "data = MnistDataModule(shift_transform_type='natural',\n",
    "                       test_transform_rate=.5,\n",
    "                       rotation=(45, 90),\n",
    "                       crop=.2,\n",
    "                       distortion=.8,\n",
    "                       batch_size=512,\n",
    "                      train_val_seed = 42,\n",
    "                        test_seed = 42,\n",
    "                    test_sample_fraction= 1)\n",
    "train_embs = generate_logits(model, data.train_dataloader())"
   ]
  },
  {
   "cell_type": "code",
   "execution_count": 5,
   "id": "624c2079-14a0-44c4-8699-da11a6b221a1",
   "metadata": {},
   "outputs": [],
   "source": [
    "import numpy as np"
   ]
  },
  {
   "cell_type": "code",
   "execution_count": 6,
   "id": "2e9042a2-9dd5-49ad-b9a3-66cd1463b2d9",
   "metadata": {},
   "outputs": [],
   "source": [
    "np.savetxt('mnist-train.txt', train_embs.cpu().numpy())"
   ]
  },
  {
   "cell_type": "code",
   "execution_count": 7,
   "id": "4e44e41e-1ce6-4e19-addb-abc3885cd9e0",
   "metadata": {
    "tags": []
   },
   "outputs": [
    {
     "name": "stderr",
     "output_type": "stream",
     "text": [
      "100%|███████████████████████████████████████████████████| 20/20 [00:01<00:00, 13.80it/s]\n"
     ]
    }
   ],
   "source": [
    "val_embs = generate_logits(model, data.val_dataloader())\n",
    "# test_embs = generate_logits(model, data.test_dataloader())"
   ]
  },
  {
   "cell_type": "code",
   "execution_count": 8,
   "id": "702ee8f8-2905-438d-9a64-87eee0fd1758",
   "metadata": {},
   "outputs": [],
   "source": [
    "np.savetxt('mnist-val.txt', val_embs.cpu().numpy())\n",
    "# np.savetxt('mnist-test.txt', test_embs.cpu().numpy())"
   ]
  },
  {
   "cell_type": "code",
   "execution_count": 17,
   "id": "6cc29587-4936-4d0f-baf1-f0664b3c87d7",
   "metadata": {},
   "outputs": [
    {
     "name": "stderr",
     "output_type": "stream",
     "text": [
      "Global seed set to 42\n",
      "  0%|                                                             | 0/1 [00:00<?, ?it/s]/voyager/projects/tomginsberg/.conda/envs/pqlearning/lib/python3.9/site-packages/torchvision/transforms/functional.py:594: UserWarning: torch.lstsq is deprecated in favor of torch.linalg.lstsq and will be removed in a future PyTorch release.\n",
      "torch.linalg.lstsq has reversed arguments and does not return the QR decomposition in the returned tuple (although it returns other information about the problem).\n",
      "To get the qr decomposition consider using torch.linalg.qr.\n",
      "The returned solution in torch.lstsq stored the residuals of the solution in the last m - n columns of the returned value whenever m > n. In torch.linalg.lstsq, the residuals in the field 'residuals' of the returned named tuple.\n",
      "The unpacking of the solution, as in\n",
      "X, _ = torch.lstsq(B, A).solution[:A.size(1)]\n",
      "should be replaced with\n",
      "X = torch.linalg.lstsq(A, B).solution (Triggered internally at  /opt/conda/conda-bld/pytorch_1623448255797/work/aten/src/ATen/LegacyTHFunctionsCPU.cpp:389.)\n",
      "  res = torch.lstsq(b_matrix, a_matrix)[0]\n",
      "100%|█████████████████████████████████████████████████████| 1/1 [00:00<00:00, 12.91it/s]\n",
      "Global seed set to 42\n",
      "100%|█████████████████████████████████████████████████████| 1/1 [00:00<00:00, 33.70it/s]\n",
      "Global seed set to 42\n",
      "100%|█████████████████████████████████████████████████████| 1/1 [00:00<00:00, 18.07it/s]\n",
      "Global seed set to 42\n",
      "100%|█████████████████████████████████████████████████████| 1/1 [00:00<00:00,  5.63it/s]\n",
      "Global seed set to 42\n",
      "100%|█████████████████████████████████████████████████████| 2/2 [00:00<00:00,  4.93it/s]\n",
      "Global seed set to 42\n",
      "100%|███████████████████████████████████████████████████| 10/10 [00:01<00:00,  5.79it/s]\n",
      "Global seed set to 42\n",
      "100%|███████████████████████████████████████████████████| 20/20 [00:03<00:00,  5.64it/s]\n"
     ]
    }
   ],
   "source": [
    "for i in [.001, .005,.01, 0.05,.1, .5,1]:\n",
    "    data = MnistDataModule(shift_transform_type='natural',\n",
    "                       test_transform_rate=.5,\n",
    "                       rotation=(45, 90),\n",
    "                       crop=.2,\n",
    "                       distortion=.8,\n",
    "                       batch_size=512,\n",
    "                      train_val_seed = 42,\n",
    "                        test_seed = 42,\n",
    "                    test_sample_fraction= i)\n",
    "    embs = generate_logits(model, data.test_dataloader())\n",
    "    np.savetxt(f'mnist-test-{int(10000 * i)}.txt', embs.cpu().numpy())"
   ]
  },
  {
   "cell_type": "code",
   "execution_count": 30,
   "id": "9e09f718-b70b-4292-bed8-27eb2290e822",
   "metadata": {},
   "outputs": [],
   "source": [
    "import json\n",
    "import numpy as np\n",
    "import pandas as pd\n",
    "import matplotlib.pyplot as plt\n",
    "from scipy.stats import ks_2samp\n",
    "from tqdm import tqdm"
   ]
  },
  {
   "cell_type": "code",
   "execution_count": 4,
   "id": "fb00cac1-7bd6-42b9-ba51-bdc637f1d2cf",
   "metadata": {},
   "outputs": [],
   "source": [
    "p = pd.read_json('../logits_mnist_none.json')"
   ]
  },
  {
   "cell_type": "code",
   "execution_count": 30,
   "id": "16dbfd60-afa0-4299-936e-f8532bb7b34e",
   "metadata": {},
   "outputs": [
    {
     "data": {
      "text/plain": [
       "(10, 10000)"
      ]
     },
     "execution_count": 30,
     "metadata": {},
     "output_type": "execute_result"
    }
   ],
   "source": [
    "np.array(p.iloc[-1].logits)[:, 0].shape"
   ]
  },
  {
   "cell_type": "code",
   "execution_count": 37,
   "id": "3a9e3fa4-8121-45c3-99db-dde7ad0727cc",
   "metadata": {},
   "outputs": [
    {
     "data": {
      "image/png": "[encoded data removed]",
      "text/plain": [
       "<Figure size 432x288 with 1 Axes>"
      ]
     },
     "metadata": {
      "needs_background": "light"
     },
     "output_type": "display_data"
    }
   ],
   "source": [
    "[plt.hist(x, 100) for x in np.array(p.iloc[-1].logits)];"
   ]
  },
  {
   "cell_type": "code",
   "execution_count": 5,
   "id": "db54fde2-efeb-4758-9a37-585df4d54f53",
   "metadata": {},
   "outputs": [],
   "source": [
    "val_sizes = [10, 10000] \n",
    "val_sets = [np.array(p[p.n_test==x].logits.tolist()) for x in val_sizes]"
   ]
  },
  {
   "cell_type": "code",
   "execution_count": 31,
   "id": "a44b5d98-c76a-49a4-b0ff-0e8fbfdc143c",
   "metadata": {},
   "outputs": [],
   "source": [
    "def ks_test_batch(p, q):\n",
    "    \"\"\"\n",
    "    p is the set of validation runs (10 runs x 10 classes x n samples)\n",
    "    q is another set of runs (10 runs x 10 classes x k samples)\n",
    "    \"\"\"\n",
    "    n = p.shape[-1]\n",
    "    k = q.shape[-1]\n",
    "    classes = p.shape[1]\n",
    "    res = [[] for _ in range(classes)]\n",
    "    \n",
    "    for c in tqdm(range(classes)):\n",
    "        # get the logits from p and q with class c  \n",
    "        pp = p[:, c]\n",
    "        qq = q[:, c]\n",
    "        for p_run in pp:\n",
    "            for q_run in qq:\n",
    "                res[c].append(ks_2samp(p_run, q_run).pvalue)\n",
    "    return (n, k), np.array(res).T.tolist()"
   ]
  },
  {
   "cell_type": "code",
   "execution_count": 38,
   "id": "d9866262-d23f-4245-a6aa-844f666fbc3f",
   "metadata": {
    "tags": []
   },
   "outputs": [
    {
     "name": "stderr",
     "output_type": "stream",
     "text": [
      "100%|█████████████████████████████████████████████| 10/10 [00:00<00:00, 108.09it/s]\n",
      "100%|██████████████████████████████████████████████| 10/10 [00:00<00:00, 27.32it/s]\n",
      "100%|██████████████████████████████████████████████| 10/10 [00:00<00:00, 17.29it/s]\n",
      "100%|██████████████████████████████████████████████| 10/10 [00:02<00:00,  3.88it/s]\n",
      "100%|██████████████████████████████████████████████| 10/10 [00:04<00:00,  2.02it/s]\n",
      "100%|██████████████████████████████████████████████| 10/10 [00:23<00:00,  2.38s/it]\n",
      "100%|██████████████████████████████████████████████| 10/10 [00:47<00:00,  4.78s/it]\n",
      "100%|██████████████████████████████████████████████| 10/10 [00:47<00:00,  4.78s/it]\n",
      "100%|██████████████████████████████████████████████| 10/10 [00:48<00:00,  4.80s/it]\n",
      "100%|██████████████████████████████████████████████| 10/10 [00:47<00:00,  4.80s/it]\n",
      "100%|██████████████████████████████████████████████| 10/10 [00:49<00:00,  4.90s/it]\n",
      "100%|██████████████████████████████████████████████| 10/10 [00:51<00:00,  5.18s/it]\n",
      "100%|██████████████████████████████████████████████| 10/10 [00:55<00:00,  5.59s/it]\n",
      "100%|██████████████████████████████████████████████| 10/10 [00:05<00:00,  1.97it/s]\n"
     ]
    }
   ],
   "source": [
    "res = {} \n",
    "for vs, n in zip(val_sets, val_sizes):\n",
    "    for nq in p.n_test.unique():\n",
    "        q_logits = np.array(p[p.n_test == nq].logits.tolist())\n",
    "        k, v = ks_test_eval(vs, q_logits)\n",
    "        assert k == (n, nq)\n",
    "        res[k] = v"
   ]
  },
  {
   "cell_type": "code",
   "execution_count": 45,
   "id": "57e60825-e985-4444-a36c-083a11576c84",
   "metadata": {},
   "outputs": [],
   "source": [
    "with open('../bbsd_mnist_no_shift.json', 'w') as f:\n",
    "        json.dump({f'{k}': v for k,v in res.items()}, f)"
   ]
  },
  {
   "cell_type": "code",
   "execution_count": 44,
   "id": "8ca3c15d-3c6d-4ccd-9d49-99c7da4ac45a",
   "metadata": {},
   "outputs": [
    {
     "data": {
      "text/plain": [
       "<module 'json' from '/voyager/projects/tomginsberg/.conda/envs/pqlearning/lib/python3.9/json/__init__.py'>"
      ]
     },
     "execution_count": 44,
     "metadata": {},
     "output_type": "execute_result"
    }
   ],
   "source": [
    "json"
   ]
  },
  {
   "cell_type": "code",
   "execution_count": null,
   "id": "84081319-fe15-4857-bf87-a34fdd29d31c",
   "metadata": {},
   "outputs": [],
   "source": []
  }
 ],
 "metadata": {
  "kernelspec": {
   "display_name": "Python 3 (ipykernel)",
   "language": "python",
   "name": "python3"
  },
  "language_info": {
   "codemirror_mode": {
    "name": "ipython",
    "version": 3
   },
   "file_extension": ".py",
   "mimetype": "text/x-python",
   "name": "python",
   "nbconvert_exporter": "python",
   "pygments_lexer": "ipython3",
   "version": "3.9.5"
  }
 },
 "nbformat": 4,
 "nbformat_minor": 5
}
