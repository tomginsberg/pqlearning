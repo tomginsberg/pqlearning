{
 "cells": [
  {
   "cell_type": "code",
   "execution_count": 11,
   "id": "bccf07cf-250b-48ae-bfde-5838af770b90",
   "metadata": {},
   "outputs": [],
   "source": [
    "import pytorch_lightning as pl\n",
    "from glob import glob\n",
    "import torch\n",
    "import os\n",
    "\n",
    "from datasets.coil import Coil100Module\n",
    "from modelling import CNN\n",
    "from modelling.pretrained import linear_trained_on_coil_p1\n",
    "from experiments.rejectron.rejectron import RejectronClassifier\n",
    "\n",
    "from tqdm import tqdm\n",
    "import matplotlib.pyplot as plt\n",
    "\n",
    "os.chdir(f'/voyager/projects/tomginsberg/pqlearning')"
   ]
  },
  {
   "cell_type": "code",
   "execution_count": 12,
   "id": "03d4d651-86fc-40a5-905c-e49f49f64f76",
   "metadata": {
    "tags": []
   },
   "outputs": [
    {
     "name": "stderr",
     "output_type": "stream",
     "text": [
      "100%|██████████████████████████████████████████████████████████████| 64/64 [00:01<00:00, 50.15it/s]\n"
     ]
    }
   ],
   "source": [
    "checkpoints = sorted(\n",
    "    glob('checkpoints/rejectron_coil_p1_lenet/c*/*ckpt'),\n",
    "    # sort by model num in \"checkpoints/rejectron_mnist/c_(model num)\"\n",
    "    key=lambda x: int(x.split('/')[2].split('_')[-1])\n",
    ")\n",
    "rejectors = [linear_trained_on_coil_p1().cuda(device=2)] + \\\n",
    "            [CNN.load_from_checkpoint(checkpoint_path=checkpoint).cuda(device=2) for checkpoint in tqdm(checkpoints)]\n",
    "\n",
    "coil = Coil100Module(batch_size=250, split=1)"
   ]
  },
  {
   "cell_type": "code",
   "execution_count": 13,
   "id": "a746e385-7233-4e5d-a33b-c752753f128a",
   "metadata": {
    "tags": []
   },
   "outputs": [
    {
     "name": "stderr",
     "output_type": "stream",
     "text": [
      "  0%|                                                                        | 0/8 [00:00<?, ?it/s]/voyager/projects/tomginsberg/.conda/envs/pqlearning/lib/python3.9/site-packages/torch/nn/functional.py:718: UserWarning: Named tensors and all their associated APIs are an experimental feature and subject to change. Please do not use them for anything important until they are released as stable. (Triggered internally at  /opt/conda/conda-bld/pytorch_1623448255797/work/c10/core/TensorImpl.h:1156.)\n",
      "  return torch.max_pool2d(input, kernel_size, stride, padding, dilation, ceil_mode)\n",
      "100%|████████████████████████████████████████████████████████████████| 8/8 [00:03<00:00,  2.12it/s]\n"
     ]
    }
   ],
   "source": [
    "y_true = []\n",
    "y_pred = []\n",
    "for x, y in tqdm(coil.test_dataloader()):\n",
    "    x = x.cuda(device=2)\n",
    "    y_true.append(y)\n",
    "    y_pred.append(torch.stack([f(x).argmax(1).cpu() for f in rejectors]))\n",
    "\n",
    "y_true = torch.cat(y_true)\n",
    "y_pred = torch.cat(y_pred, dim=1)"
   ]
  },
  {
   "cell_type": "code",
   "execution_count": 14,
   "id": "1bb35f57-6a91-4073-87c8-43614a4dc5bb",
   "metadata": {},
   "outputs": [
    {
     "name": "stderr",
     "output_type": "stream",
     "text": [
      "100%|████████████████████████████████████████████████████████████| 65/65 [00:00<00:00, 8176.77it/s]\n"
     ]
    }
   ],
   "source": [
    "accs = []\n",
    "rejs = []\n",
    "y_true_tmp = y_true.clone()\n",
    "mask = torch.ones_like(y_true, dtype=bool)\n",
    "for pred in tqdm(y_pred):\n",
    "    pred_m = pred[mask]\n",
    "    true_m = y_true_tmp[mask]\n",
    "    \n",
    "    pred_mask = pred_m == true_m\n",
    "    acc = (pred_mask).float().mean()\n",
    "    rej = 1 - mask.float().mean()\n",
    "    \n",
    "    # update the mask\n",
    "    if not mask.all():\n",
    "        y_true_tmp[~mask] = -1\n",
    "    mask = y_true_tmp == pred\n",
    "    \n",
    "    accs.append(acc)\n",
    "    rejs.append(rej)\n",
    "\n",
    "accs = torch.tensor(accs)\n",
    "rejs = torch.tensor(rejs)"
   ]
  },
  {
   "cell_type": "code",
   "execution_count": 15,
   "id": "8523f985-0ad2-4880-8c69-f0f46b109895",
   "metadata": {},
   "outputs": [
    {
     "name": "stderr",
     "output_type": "stream",
     "text": [
      "100%|████████████████████████████████████████████████████████████████| 8/8 [00:03<00:00,  2.17it/s]\n"
     ]
    }
   ],
   "source": [
    "# baseline, val set\n",
    "\n",
    "y_true = []\n",
    "y_pred = []\n",
    "for x, y in tqdm(coil.val_dataloader()):\n",
    "    x = x.cuda(device=2)\n",
    "    y_true.append(y)\n",
    "    y_pred.append(torch.stack([f(x).argmax(1).cpu() for f in rejectors]))\n",
    "\n",
    "y_true = torch.cat(y_true)\n",
    "y_pred = torch.cat(y_pred, dim=1)"
   ]
  },
  {
   "cell_type": "code",
   "execution_count": 16,
   "id": "1139cecc-ba1b-4312-a9a1-adac6a593311",
   "metadata": {},
   "outputs": [
    {
     "name": "stderr",
     "output_type": "stream",
     "text": [
      "100%|████████████████████████████████████████████████████████████| 65/65 [00:00<00:00, 5403.00it/s]\n"
     ]
    }
   ],
   "source": [
    "accs_bs = []\n",
    "rejs_bs = []\n",
    "y_true_tmp = y_true.clone()\n",
    "mask = torch.ones_like(y_true, dtype=bool)\n",
    "for pred in tqdm(y_pred):\n",
    "    pred_m = pred[mask]\n",
    "    true_m = y_true_tmp[mask]\n",
    "    \n",
    "    pred_mask = pred_m == true_m\n",
    "    acc = (pred_mask).float().mean()\n",
    "    rej = 1 - mask.float().mean()\n",
    "    \n",
    "    # update the mask\n",
    "    if not mask.all():\n",
    "        y_true_tmp[~mask] = -1\n",
    "    mask = y_true_tmp == pred\n",
    "    \n",
    "    accs_bs.append(acc)\n",
    "    rejs_bs.append(rej)\n",
    "\n",
    "accs_bs = torch.tensor(accs_bs)\n",
    "rejs_bs = torch.tensor(rejs_bs)"
   ]
  },
  {
   "cell_type": "code",
   "execution_count": 19,
   "id": "a378f27a-e7b3-428a-8337-ed070603e31f",
   "metadata": {},
   "outputs": [
    {
     "data": {
      "image/png": "[encoded data removed]",
      "text/plain": [
       "<Figure size 432x288 with 1 Axes>"
      ]
     },
     "metadata": {
      "needs_background": "light"
     },
     "output_type": "display_data"
    }
   ],
   "source": [
    "rng = range(len(accs))\n",
    "plt.plot(rng, 1-accs, label='Err Q')\n",
    "plt.plot(rng, rejs, label='Rej Q' )\n",
    "\n",
    "plt.plot(rng, 1-accs_bs,'--', label='Err P')\n",
    "plt.plot(rng, rejs_bs,'--', label='Rej P' )\n",
    "\n",
    "plt.legend()\n",
    "plt.title('Rejectron COIL-100 (LeNet Model)')\n",
    "plt.xlabel('Iteration')\n",
    "plt.savefig('notebooks/rejectron_coil_lenet.pdf')"
   ]
  },
  {
   "cell_type": "code",
   "execution_count": 9,
   "id": "5c7ecee3-d469-42c6-b1f7-029dbacd465d",
   "metadata": {},
   "outputs": [
    {
     "data": {
      "image/png": "[encoded data removed]",
      "text/plain": [
       "<Figure size 432x288 with 1 Axes>"
      ]
     },
     "metadata": {
      "needs_background": "light"
     },
     "output_type": "display_data"
    }
   ],
   "source": [
    "rng = range(len(accs))\n",
    "plt.plot(rejs, accs, '-o')\n",
    "plt.xlabel('Rejection Rate')\n",
    "plt.ylabel('Accuracy')\n",
    "\n",
    "# plt.legend()\n",
    "plt.title('Rejectron COIL-100')\n",
    "plt.savefig('rej-acc_coil.pdf')"
   ]
  },
  {
   "cell_type": "code",
   "execution_count": 16,
   "id": "adae07c9-844c-45df-bd6d-3cf6a642b319",
   "metadata": {},
   "outputs": [
    {
     "data": {
      "text/plain": [
       "[<matplotlib.lines.Line2D at 0x7f29ac9f7a90>]"
      ]
     },
     "execution_count": 16,
     "metadata": {},
     "output_type": "execute_result"
    },
    {
     "data": {
      "image/png": "[encoded data removed]",
      "text/plain": [
       "<Figure size 432x288 with 1 Axes>"
      ]
     },
     "metadata": {
      "needs_background": "light"
     },
     "output_type": "display_data"
    }
   ],
   "source": [
    "plt.plot(rejs_bs, accs_bs,'-o')"
   ]
  },
  {
   "cell_type": "code",
   "execution_count": 29,
   "id": "5b91fd59-6925-4e0b-b0af-49c44519704b",
   "metadata": {},
   "outputs": [],
   "source": [
    "import numpy as np"
   ]
  },
  {
   "cell_type": "code",
   "execution_count": 18,
   "id": "cfccbc7f-8f59-45be-b94f-213f92e990b3",
   "metadata": {},
   "outputs": [],
   "source": [
    "h = rejectors[0]"
   ]
  },
  {
   "cell_type": "code",
   "execution_count": 38,
   "id": "f6132a43-d7fa-4c7a-bea7-2d0e821ff2c3",
   "metadata": {},
   "outputs": [
    {
     "name": "stderr",
     "output_type": "stream",
     "text": [
      "100%|██████████████████████████████████████████████████| 8/8 [00:02<00:00,  3.32it/s]\n"
     ]
    }
   ],
   "source": [
    "outs = []\n",
    "with torch.no_grad():\n",
    "    for x, _ in tqdm(coil.test_dataloader()):\n",
    "        x = x.cuda(device=2)\n",
    "        outs.append((h(x)).cpu())\n",
    "outs = torch.cat(outs)"
   ]
  },
  {
   "cell_type": "code",
   "execution_count": 39,
   "id": "dac1a8cb-4785-4d9d-a894-07549f443f17",
   "metadata": {},
   "outputs": [],
   "source": [
    "np.savetxt('notebooks/coil-test.txt', outs)"
   ]
  },
  {
   "cell_type": "code",
   "execution_count": 34,
   "id": "6f34d4ab-5a63-431f-91e2-5ce210ecc26d",
   "metadata": {},
   "outputs": [
    {
     "data": {
      "text/plain": [
       "torch.Size([1800, 100])"
      ]
     },
     "execution_count": 34,
     "metadata": {},
     "output_type": "execute_result"
    }
   ],
   "source": [
    "outs.shape"
   ]
  },
  {
   "cell_type": "code",
   "execution_count": 44,
   "id": "573cd543-c642-4cd3-a8dc-591fff8a2d99",
   "metadata": {},
   "outputs": [],
   "source": [
    "testlabels = torch.cat([y for _, y in coil.test_dataloader()])"
   ]
  },
  {
   "cell_type": "code",
   "execution_count": 46,
   "id": "f223f504-b31b-4801-9700-71d8b4f626e8",
   "metadata": {
    "collapsed": true,
    "jupyter": {
     "outputs_hidden": true
    },
    "tags": []
   },
   "outputs": [
    {
     "name": "stdout",
     "output_type": "stream",
     "text": [
      "87, 58, 72, 81, 24, 48, 38, 70, 30, 91, 19, 88, 24, 25, 62, 15, 1, 97, 50, 26, 67, 65, 55, 94, 95, 4, 81, 13, 31, 29, 32, 27, 53, 20, 92, 55, 89, 63, 62, 16, 83, 25, 55, 68, 1, 64, 28, 60, 90, 31, 31, 60, 43, 9, 56, 99, 21, 38, 69, 87, 61, 81, 8, 49, 86, 69, 66, 29, 30, 75, 29, 72, 24, 38, 27, 4, 12, 63, 38, 70, 30, 31, 11, 48, 55, 17, 15, 41, 36, 62, 64, 14, 99, 89, 9, 18, 85, 87, 47, 7, 39, 39, 41, 70, 47, 3, 6, 90, 69, 95, 21, 91, 63, 21, 51, 41, 36, 46, 62, 0, 89, 59, 15, 93, 44, 66, 21, 93, 80, 97, 65, 54, 42, 0, 11, 84, 18, 42, 4, 85, 14, 65, 42, 3, 25, 54, 58, 0, 94, 37, 77, 46, 58, 39, 49, 43, 32, 41, 62, 23, 71, 96, 68, 4, 48, 10, 69, 41, 77, 71, 96, 1, 30, 80, 39, 53, 77, 43, 39, 19, 9, 31, 51, 26, 96, 60, 35, 36, 9, 63, 92, 74, 11, 51, 41, 85, 6, 88, 91, 44, 22, 37, 81, 95, 87, 30, 33, 89, 18, 66, 80, 11, 71, 66, 48, 82, 29, 41, 54, 41, 13, 23, 73, 52, 85, 60, 62, 92, 69, 10, 40, 21, 52, 87, 31, 98, 14, 4, 99, 55, 19, 16, 57, 66, 96, 7, 12, 94, 11, 79, 80, 74, 6, 82, 74, 83, 92, 52, 71, 68, 77, 49, 79, 44, 70, 76, 75, 37, 42, 52, 81, 36, 34, 96, 62, 55, 53, 41, 99, 89, 69, 33, 45, 76, 19, 60, 41, 1, 13, 40, 80, 51, 20, 52, 90, 81, 62, 56, 6, 46, 1, 10, 63, 4, 72, 90, 2, 74, 37, 83, 31, 89, 24, 0, 98, 95, 75, 84, 77, 87, 3, 46, 59, 66, 18, 24, 86, 1, 34, 73, 67, 48, 75, 96, 56, 3, 2, 58, 59, 18, 3, 27, 90, 95, 9, 36, 63, 95, 79, 74, 63, 38, 65, 90, 35, 4, 58, 66, 63, 59, 78, 46, 78, 14, 84, 77, 13, 15, 74, 86, 24, 57, 42, 0, 59, 88, 5, 46, 53, 72, 47, 77, 3, 32, 56, 28, 16, 40, 35, 13, 73, 61, 43, 50, 84, 34, 99, 9, 53, 36, 27, 10, 54, 59, 61, 90, 77, 20, 56, 27, 95, 38, 12, 52, 48, 16, 39, 20, 58, 67, 37, 35, 42, 0, 64, 90, 29, 56, 52, 92, 5, 39, 22, 55, 60, 50, 2, 72, 96, 5, 46, 31, 19, 54, 14, 48, 79, 62, 54, 73, 39, 30, 85, 71, 17, 19, 15, 91, 82, 55, 25, 63, 86, 20, 24, 52, 89, 89, 86, 53, 67, 50, 13, 18, 27, 85, 86, 25, 65, 11, 36, 27, 73, 83, 79, 78, 80, 27, 16, 55, 35, 89, 77, 81, 45, 49, 37, 90, 16, 98, 68, 38, 91, 63, 16, 20, 48, 26, 97, 83, 43, 5, 30, 40, 16, 22, 11, 21, 26, 81, 73, 86, 66, 25, 65, 13, 85, 22, 40, 83, 33, 10, 0, 42, 92, 28, 50, 49, 35, 91, 27, 52, 92, 35, 48, 39, 24, 8, 80, 20, 55, 93, 50, 32, 0, 32, 82, 79, 28, 95, 49, 65, 39, 17, 47, 65, 48, 97, 28, 68, 76, 30, 39, 32, 78, 33, 23, 15, 95, 54, 85, 39, 60, 29, 56, 20, 28, 36, 37, 35, 67, 60, 67, 60, 12, 17, 98, 94, 13, 1, 0, 1, 99, 90, 60, 45, 26, 27, 88, 70, 13, 64, 67, 7, 7, 34, 19, 12, 8, 70, 70, 17, 35, 66, 19, 23, 23, 68, 96, 26, 74, 43, 27, 8, 52, 93, 16, 52, 12, 14, 21, 13, 87, 70, 87, 44, 48, 58, 32, 33, 38, 9, 55, 45, 22, 82, 65, 37, 48, 74, 1, 99, 42, 53, 77, 31, 79, 35, 93, 25, 59, 1, 68, 79, 48, 36, 69, 41, 71, 41, 10, 21, 17, 35, 58, 87, 47, 11, 0, 24, 30, 30, 18, 6, 35, 84, 22, 69, 5, 6, 23, 43, 59, 72, 76, 24, 92, 93, 50, 8, 43, 11, 58, 2, 14, 76, 10, 39, 57, 3, 84, 17, 71, 23, 66, 16, 5, 15, 34, 66, 16, 39, 5, 46, 28, 51, 96, 65, 64, 17, 25, 40, 64, 23, 88, 69, 24, 33, 90, 93, 83, 31, 1, 31, 20, 86, 27, 43, 64, 49, 84, 43, 87, 87, 49, 93, 93, 79, 96, 87, 79, 72, 14, 5, 94, 16, 91, 37, 72, 53, 69, 5, 31, 50, 8, 72, 98, 2, 10, 17, 16, 88, 11, 80, 11, 14, 76, 60, 20, 23, 27, 14, 54, 62, 51, 7, 20, 61, 69, 63, 50, 72, 93, 35, 89, 64, 15, 7, 97, 78, 62, 21, 27, 29, 6, 8, 36, 27, 13, 9, 67, 37, 54, 31, 26, 70, 55, 7, 76, 89, 62, 11, 46, 0, 46, 71, 89, 44, 31, 5, 61, 71, 70, 0, 42, 97, 95, 48, 41, 27, 76, 48, 32, 96, 41, 22, 2, 44, 7, 60, 8, 71, 11, 69, 73, 53, 16, 49, 24, 34, 49, 85, 42, 74, 20, 36, 17, 69, 5, 82, 82, 94, 71, 53, 91, 9, 47, 87, 87, 8, 26, 49, 36, 29, 79, 43, 34, 97, 41, 34, 67, 91, 87, 29, 87, 0, 70, 79, 47, 84, 44, 56, 24, 17, 58, 54, 74, 93, 30, 69, 77, 88, 40, 41, 52, 21, 14, 15, 15, 71, 65, 60, 51, 77, 81, 22, 57, 6, 43, 50, 6, 23, 66, 16, 97, 22, 79, 34, 28, 69, 65, 34, 18, 83, 99, 53, 40, 61, 47, 25, 74, 66, 13, 99, 65, 71, 0, 82, 33, 18, 9, 91, 29, 65, 47, 73, 74, 1, 78, 20, 34, 65, 68, 45, 98, 75, 0, 18, 51, 76, 90, 73, 1, 64, 82, 61, 23, 62, 57, 34, 15, 24, 72, 22, 48, 42, 79, 64, 45, 94, 38, 57, 82, 41, 43, 3, 98, 50, 5, 64, 23, 66, 47, 22, 63, 99, 13, 7, 89, 71, 17, 98, 98, 57, 31, 78, 88, 94, 30, 66, 76, 6, 38, 88, 43, 93, 23, 15, 75, 35, 17, 0, 9, 48, 85, 57, 63, 83, 20, 2, 93, 64, 68, 93, 47, 71, 19, 90, 70, 30, 4, 11, 81, 89, 11, 86, 61, 10, 64, 46, 63, 60, 63, 65, 44, 9, 23, 52, 49, 58, 75, 97, 93, 38, 44, 45, 49, 56, 82, 29, 78, 76, 12, 39, 30, 89, 6, 72, 4, 72, 64, 28, 28, 97, 77, 7, 97, 73, 56, 91, 15, 10, 95, 67, 99, 0, 42, 44, 64, 53, 44, 91, 65, 79, 85, 18, 28, 42, 50, 71, 84, 50, 32, 14, 56, 12, 22, 31, 54, 53, 12, 37, 36, 7, 4, 72, 65, 56, 3, 47, 9, 89, 19, 64, 36, 98, 26, 85, 70, 15, 83, 26, 63, 5, 82, 26, 86, 1, 84, 81, 46, 27, 75, 8, 70, 40, 33, 83, 34, 83, 38, 6, 22, 51, 86, 68, 72, 3, 86, 12, 61, 51, 59, 14, 4, 47, 27, 86, 83, 75, 19, 72, 39, 96, 45, 59, 81, 44, 19, 29, 10, 52, 50, 85, 37, 20, 48, 21, 83, 65, 12, 80, 99, 57, 47, 41, 26, 84, 59, 61, 82, 82, 39, 73, 50, 29, 97, 23, 23, 35, 79, 77, 42, 95, 2, 57, 16, 78, 3, 30, 87, 91, 91, 52, 21, 91, 17, 75, 14, 38, 25, 71, 88, 92, 89, 54, 60, 37, 34, 77, 60, 22, 38, 81, 84, 83, 46, 65, 25, 8, 78, 13, 40, 27, 93, 67, 25, 39, 96, 79, 80, 34, 94, 80, 95, 79, 56, 68, 53, 1, 94, 22, 29, 21, 72, 76, 55, 45, 84, 33, 60, 72, 85, 84, 29, 23, 65, 60, 70, 3, 56, 82, 17, 28, 75, 30, 7, 83, 92, 4, 36, 69, 81, 9, 69, 20, 17, 81, 96, 83, 44, 40, 33, 31, 50, 95, 34, 55, 24, 15, 72, 93, 63, 45, 18, 84, 28, 2, 54, 37, 46, 86, 90, 51, 99, 15, 33, 19, 86, 69, 44, 20, 87, 39, 73, 49, 28, 79, 38, 71, 99, 83, 92, 66, 55, 41, 79, 38, 32, 92, 70, 5, 55, 52, 53, 45, 47, 37, 11, 13, 93, 58, 6, 51, 13, 20, 74, 46, 43, 22, 79, 11, 37, 47, 76, 45, 76, 80, 94, 8, 98, 31, 33, 73, 56, 27, 83, 88, 97, 94, 33, 68, 21, 83, 16, 45, 10, 91, 42, 23, 1, 89, 7, 32, 11, 12, 30, 10, 58, 50, 54, 0, 12, 5, 0, 46, 21, 39, 20, 42, 16, 12, 2, 24, 73, 68, 70, 67, 12, 99, 37, 8, 19, 6, 36, 65, 94, 29, 3, 77, 24, 94, 12, 55, 59, 17, 44, 80, 30, 73, 72, 55, 60, 28, 59, 61, 42, 37, 29, 36, 88, 82, 76, 91, 82, 15, 48, 56, 80, 12, 37, 76, 56, 56, 7, 90, 10, 15, 70, 65, 82, 49, 93, 97, 16, 40, 38, 39, 68, 17, 97, 11, 98, 7, 13, 95, 70, 0, 78, 81, 64, 75, 40, 95, 67, 66, 64, 61, 26, 16, 10, 44, 59, 20, 40, 46, 43, 66, 59, 15, 80, 34, 3, 59, 29, 66, 97, 84, 0, 19, 83, 30, 98, 97, 85, 42, 35, 22, 75, 69, 88, 11, 26, 58, 14, 96, 92, 56, 19, 17, 41, 57, 35, 99, 61, 63, 50, 51, 65, 93, 49, 90, 85, 51, 51, 5, 13, 41, 79, 89, 49, 7, 26, 94, 2, 60, 32, 52, 10, 98, 68, 29, 9, 42, 58, 71, 40, 49, 48, 76, 71, 95, 65, 28, 68, 80, 50, 43, 26, 47, 17, 14, 51, 80, 4, 10, 42, 50, 71, 30, 12, 85, 55, 26, 7, 84, 3, 61, 77, 11, 16, 65, 17, 84, 79, 7, 49, 67, 62, 51, 81, 86, 22, 66, 4, 31, 66, 20, 54, 65, 72, 29, 2, 92, 38, 20, 6, 69, 2, 96, 29, 69, 1, 70, 2, 42, 46, 93, 77, 42, 76, 48, 85, 33, 75, 36, 80, 59, 21, 13, 56, 53, 51, 53, 9, 1, 16, 9, 31, 71, 21, 94, 73, 81, 99, 28, 15, 86, 14, 10, 7, 82, 95, 4, 83, 30, 74, 85, 87, 22, 36, 73, 94, 65, 16, 81, 16, 77, 28, 3, 75, 62, 55, 54, 15, 45, 77, 94, 11, 75, 98, 40, 81, 30, 72, 30, 34, 56, 3, 93, 59, 53, 91, 63, 39, 59, 0, 75, 48, 1, "
     ]
    }
   ],
   "source": [
    "for x in testlabels:\n",
    "    print(x.item(), end=', ')"
   ]
  },
  {
   "cell_type": "code",
   "execution_count": null,
   "id": "48e2503d-2502-4784-9189-d4180217e4e2",
   "metadata": {},
   "outputs": [],
   "source": []
  }
 ],
 "metadata": {
  "kernelspec": {
   "display_name": "Python 3 (ipykernel)",
   "language": "python",
   "name": "python3"
  },
  "language_info": {
   "codemirror_mode": {
    "name": "ipython",
    "version": 3
   },
   "file_extension": ".py",
   "mimetype": "text/x-python",
   "name": "python",
   "nbconvert_exporter": "python",
   "pygments_lexer": "ipython3",
   "version": "3.9.5"
  }
 },
 "nbformat": 4,
 "nbformat_minor": 5
}
