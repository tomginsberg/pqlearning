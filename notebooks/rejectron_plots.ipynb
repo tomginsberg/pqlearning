{
 "cells": [
  {
   "cell_type": "code",
   "execution_count": 11,
   "id": "bccf07cf-250b-48ae-bfde-5838af770b90",
   "metadata": {},
   "outputs": [],
   "source": [
    "import pytorch_lightning as pl\n",
    "from glob import glob\n",
    "import torch\n",
    "import os\n",
    "\n",
    "from datasets import MnistDataModule\n",
    "from modelling import CNN\n",
    "from modelling.pretrained import resnet18_trained_on_mnist, lenet_trained_on_mnist, lenet_trained_on_fashion_mnist\n",
    "from experiments.rejectron.rejectron import RejectronClassifier\n",
    "\n",
    "from tqdm import tqdm\n",
    "import matplotlib.pyplot as plt\n",
    "\n",
    "os.chdir(f'/voyager/projects/tomginsberg/pqlearning')"
   ]
  },
  {
   "cell_type": "code",
   "execution_count": 18,
   "id": "03d4d651-86fc-40a5-905c-e49f49f64f76",
   "metadata": {
    "tags": []
   },
   "outputs": [
    {
     "name": "stderr",
     "output_type": "stream",
     "text": [
      "100%|███████████████████████████████████████████████████████████████| 9/9 [00:00<00:00, 120.03it/s]\n"
     ]
    }
   ],
   "source": [
    "checkpoints = sorted(\n",
    "    glob('checkpoints/rejectron_fashion_mnist_p5_r45-90_c2-d8_lenet/c*/*ckpt'),\n",
    "    # sort by model num in \"checkpoints/rejectron_mnist/c_(model num)\"\n",
    "    key=lambda x: int(x.split('/')[2].split('_')[-1])\n",
    ")\n",
    "rejectors = [lenet_trained_on_fashion_mnist().cuda(device=2)] + \\\n",
    "            [CNN.load_from_checkpoint(checkpoint_path=checkpoint).cuda(device=2) for checkpoint in tqdm(checkpoints)]\n",
    "\n",
    "mnist = MnistDataModule(shift_transform_type='natural', test_transform_rate=.5, rotation=(45,90), crop=.2, distortion=.8,\n",
    "                        batch_size=256, fashion_mnist=True)"
   ]
  },
  {
   "cell_type": "code",
   "execution_count": 19,
   "id": "a746e385-7233-4e5d-a33b-c752753f128a",
   "metadata": {
    "tags": []
   },
   "outputs": [
    {
     "name": "stderr",
     "output_type": "stream",
     "text": [
      "Global seed set to 42\n",
      "100%|██████████████████████████████████████████████████████████████| 40/40 [00:04<00:00,  9.81it/s]\n"
     ]
    }
   ],
   "source": [
    "y_true = []\n",
    "y_pred = []\n",
    "for x, y in tqdm(mnist.test_dataloader()):\n",
    "    x = x.cuda(device=2)\n",
    "    y_true.append(y)\n",
    "    y_pred.append(torch.stack([f(x).argmax(1).cpu() for f in rejectors]))\n",
    "\n",
    "y_true = torch.cat(y_true)\n",
    "y_pred = torch.cat(y_pred, dim=1)"
   ]
  },
  {
   "cell_type": "code",
   "execution_count": 20,
   "id": "1bb35f57-6a91-4073-87c8-43614a4dc5bb",
   "metadata": {},
   "outputs": [
    {
     "name": "stderr",
     "output_type": "stream",
     "text": [
      "100%|████████████████████████████████████████████████████████████| 10/10 [00:00<00:00, 1296.06it/s]\n"
     ]
    }
   ],
   "source": [
    "accs = []\n",
    "rejs = []\n",
    "y_true_tmp = y_true.clone()\n",
    "mask = torch.ones_like(y_true, dtype=bool)\n",
    "for pred in tqdm(y_pred):\n",
    "    pred_m = pred[mask]\n",
    "    true_m = y_true_tmp[mask]\n",
    "    \n",
    "    pred_mask = pred_m == true_m\n",
    "    acc = (pred_mask).float().mean()\n",
    "    rej = 1 - mask.float().mean()\n",
    "    \n",
    "    # update the mask\n",
    "    if not mask.all():\n",
    "        y_true_tmp[~mask] = -1\n",
    "    mask = y_true_tmp == pred\n",
    "    \n",
    "    accs.append(acc)\n",
    "    rejs.append(rej)\n",
    "\n",
    "accs = torch.tensor(accs)\n",
    "rejs = torch.tensor(rejs)"
   ]
  },
  {
   "cell_type": "code",
   "execution_count": 21,
   "id": "8523f985-0ad2-4880-8c69-f0f46b109895",
   "metadata": {},
   "outputs": [
    {
     "name": "stderr",
     "output_type": "stream",
     "text": [
      "Global seed set to 42\n",
      "100%|██████████████████████████████████████████████████████████████| 40/40 [00:01<00:00, 22.48it/s]\n"
     ]
    }
   ],
   "source": [
    "# baseline, dont cirruot any of thr test data\n",
    "mnist = MnistDataModule(shift_transform_type='natural', test_transform_rate=0, rotation=(20,40), crop=.3, distortion=.3,\n",
    "                        batch_size=256, fashion_mnist=True)\n",
    "\n",
    "y_true = []\n",
    "y_pred = []\n",
    "for x, y in tqdm(mnist.test_dataloader()):\n",
    "    x = x.cuda(device=2)\n",
    "    y_true.append(y)\n",
    "    y_pred.append(torch.stack([f(x).argmax(1).cpu() for f in rejectors]))\n",
    "\n",
    "y_true = torch.cat(y_true)\n",
    "y_pred = torch.cat(y_pred, dim=1)"
   ]
  },
  {
   "cell_type": "code",
   "execution_count": 22,
   "id": "1139cecc-ba1b-4312-a9a1-adac6a593311",
   "metadata": {},
   "outputs": [
    {
     "name": "stderr",
     "output_type": "stream",
     "text": [
      "100%|█████████████████████████████████████████████████████████████| 10/10 [00:00<00:00, 864.70it/s]\n"
     ]
    }
   ],
   "source": [
    "accs_bs = []\n",
    "rejs_bs = []\n",
    "y_true_tmp = y_true.clone()\n",
    "mask = torch.ones_like(y_true, dtype=bool)\n",
    "for pred in tqdm(y_pred):\n",
    "    pred_m = pred[mask]\n",
    "    true_m = y_true_tmp[mask]\n",
    "    \n",
    "    pred_mask = pred_m == true_m\n",
    "    acc = (pred_mask).float().mean()\n",
    "    rej = 1 - mask.float().mean()\n",
    "    \n",
    "    # update the mask\n",
    "    if not mask.all():\n",
    "        y_true_tmp[~mask] = -1\n",
    "    mask = y_true_tmp == pred\n",
    "    \n",
    "    accs_bs.append(acc)\n",
    "    rejs_bs.append(rej)\n",
    "\n",
    "accs_bs = torch.tensor(accs_bs)\n",
    "rejs_bs = torch.tensor(rejs_bs)"
   ]
  },
  {
   "cell_type": "code",
   "execution_count": 24,
   "id": "a378f27a-e7b3-428a-8337-ed070603e31f",
   "metadata": {},
   "outputs": [
    {
     "data": {
      "image/png": "[encoded data removed]",
      "text/plain": [
       "<Figure size 432x288 with 1 Axes>"
      ]
     },
     "metadata": {
      "needs_background": "light"
     },
     "output_type": "display_data"
    }
   ],
   "source": [
    "rng = range(len(accs))\n",
    "plt.plot(rng, 1-accs, label='Err Q')\n",
    "plt.plot(rng, rejs, label='Rej Q' )\n",
    "\n",
    "plt.plot(rng, 1-accs_bs,'--', label='Err P')\n",
    "plt.plot(rng, rejs_bs,'--', label='Rej P' )\n",
    "\n",
    "plt.legend()\n",
    "plt.title('Rejectron Fashion MNIST LeNet (img_l 50%)')\n",
    "plt.xlabel('Iteration')\n",
    "plt.savefig('notebooks/rejectron_fashion_mnist_img_l_lenet.pdf')"
   ]
  },
  {
   "cell_type": "code",
   "execution_count": 10,
   "id": "5c7ecee3-d469-42c6-b1f7-029dbacd465d",
   "metadata": {},
   "outputs": [
    {
     "data": {
      "text/plain": [
       "Text(0.5, 1.0, 'Rejectron MNIST (img_m 50%)')"
      ]
     },
     "execution_count": 10,
     "metadata": {},
     "output_type": "execute_result"
    },
    {
     "data": {
      "image/png": "[encoded data removed]",
      "text/plain": [
       "<Figure size 432x288 with 1 Axes>"
      ]
     },
     "metadata": {
      "needs_background": "light"
     },
     "output_type": "display_data"
    }
   ],
   "source": [
    "rng = range(len(accs))\n",
    "plt.plot(rejs, accs, label='Acc Q')\n",
    "\n",
    "plt.legend()\n",
    "plt.title('Rejectron MNIST (img_m 50%)')"
   ]
  },
  {
   "cell_type": "code",
   "execution_count": 11,
   "id": "adae07c9-844c-45df-bd6d-3cf6a642b319",
   "metadata": {},
   "outputs": [
    {
     "data": {
      "text/plain": [
       "<module 'matplotlib.pyplot' from '/voyager/projects/tomginsberg/.conda/envs/pqlearning/lib/python3.9/site-packages/matplotlib/pyplot.py'>"
      ]
     },
     "execution_count": 11,
     "metadata": {},
     "output_type": "execute_result"
    },
    {
     "data": {
      "image/png": "[encoded data removed]",
      "text/plain": [
       "<Figure size 432x288 with 1 Axes>"
      ]
     },
     "metadata": {
      "needs_background": "light"
     },
     "output_type": "display_data"
    }
   ],
   "source": [
    "plt.plot(rejs_bs, accs_bs,'--', label='Acc P')\n",
    "plt"
   ]
  },
  {
   "cell_type": "code",
   "execution_count": 9,
   "id": "cfccbc7f-8f59-45be-b94f-213f92e990b3",
   "metadata": {},
   "outputs": [
    {
     "data": {
      "text/plain": [
       "tensor(0.0124)"
      ]
     },
     "execution_count": 9,
     "metadata": {},
     "output_type": "execute_result"
    }
   ],
   "source": [
    "rejs_bs[-1]"
   ]
  },
  {
   "cell_type": "code",
   "execution_count": 10,
   "id": "e8a23fa3-d2f9-47eb-94c2-84684167433c",
   "metadata": {},
   "outputs": [
    {
     "data": {
      "text/plain": [
       "tensor(0.4934)"
      ]
     },
     "execution_count": 10,
     "metadata": {},
     "output_type": "execute_result"
    }
   ],
   "source": [
    "rejs[-1]"
   ]
  },
  {
   "cell_type": "code",
   "execution_count": null,
   "id": "fa8c9a16-ec1b-429c-9d57-79598e30b66a",
   "metadata": {},
   "outputs": [],
   "source": []
  }
 ],
 "metadata": {
  "kernelspec": {
   "display_name": "Python 3 (ipykernel)",
   "language": "python",
   "name": "python3"
  },
  "language_info": {
   "codemirror_mode": {
    "name": "ipython",
    "version": 3
   },
   "file_extension": ".py",
   "mimetype": "text/x-python",
   "name": "python",
   "nbconvert_exporter": "python",
   "pygments_lexer": "ipython3",
   "version": "3.9.5"
  }
 },
 "nbformat": 4,
 "nbformat_minor": 5
}
